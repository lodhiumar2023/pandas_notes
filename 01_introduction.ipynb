{
 "cells": [
  {
   "cell_type": "markdown",
   "metadata": {},
   "source": [
    "# Introduction to Pandas."
   ]
  },
  {
   "cell_type": "markdown",
   "metadata": {},
   "source": [
    "•\tPandas is a Python package providing fast, flexible, and expressive data structures designed to make working with “relational” or “labeled” data both easy and intuitive. \n",
    "\n",
    "•\tHere are just a few of the things that pandas does well: \n",
    "It has functions for analyzing, cleaning, exploring and manipulating data. \n",
    "\n",
    "•\tThe name “Pandas” has a reference to both “Panel Data” and Python Data Analysis” and was created by Wes McKinney in 2008. \n"
   ]
  },
  {
   "cell_type": "markdown",
   "metadata": {},
   "source": [
    "# Pandas Applications"
   ]
  },
  {
   "cell_type": "markdown",
   "metadata": {},
   "source": [
    "•\tEasy handling of missing data.\n",
    "\n",
    "•\tSize mutability: columns can be inserted and deleted from DataFrame and higher dimensional objects. \n",
    "\n",
    "•\tAutomatic and explicit data alignment: objects can be explicitly aligned to a set of labels, or the user can simply ignore the labels and let Series, DataFrame etc. \n",
    "\n",
    "•\tAutomatically align the data for you in computations. \n",
    "\n",
    "•\tPowerful, flexible group by functionality. \n",
    "\n",
    "•\tIntelligent label-based slicing, fancy indexing, and sub-setting of large data sets. \n",
    "\n",
    "•\tIntuitive merging and joining data sets.\n",
    "\n",
    "•\tFlexible reshaping and pivoting of data sets. \n"
   ]
  },
  {
   "cell_type": "markdown",
   "metadata": {},
   "source": [
    "# Data Structures in Pandas"
   ]
  },
  {
   "cell_type": "markdown",
   "metadata": {},
   "source": [
    "The best way to think about the pandas data structures is as flexible containers for lower dimensional data. For example, DataFrame is container for Series, and Series is a container for scalars. We would like to be able to insert and remove objects from these containers in a dictionary-like fashion. \t"
   ]
  },
  {
   "cell_type": "markdown",
   "metadata": {},
   "source": [
    "# Series in Pandas"
   ]
  },
  {
   "cell_type": "markdown",
   "metadata": {},
   "source": [
    "Pandas Series is a one-dimensional labelled array capable of holding data of any type (integer, strings, float, python objects, etc.). The axis labels are collectively called index. Pandas Series is nothing but a column in an excel sheet. \n",
    "The object supports both integer and label-based indexing and provides a host of methods for performing operations involving the index. \n"
   ]
  },
  {
   "cell_type": "markdown",
   "metadata": {},
   "source": [
    "# DataFrame in Pandas"
   ]
  },
  {
   "cell_type": "markdown",
   "metadata": {},
   "source": [
    "Pandas DataFrame is two-dimensional size-mutable, potentially heterogeneous tabular data structure with labelled axes (rows and columns). A DataFrame is a two-dimensional data structure, i.e., data is aligned in a tabular fashion in rows and columns. Pandas DataFrame consists of three principal components, the data, rows, and columns."
   ]
  },
  {
   "cell_type": "markdown",
   "metadata": {},
   "source": []
  }
 ],
 "metadata": {
  "language_info": {
   "name": "python"
  }
 },
 "nbformat": 4,
 "nbformat_minor": 2
}
