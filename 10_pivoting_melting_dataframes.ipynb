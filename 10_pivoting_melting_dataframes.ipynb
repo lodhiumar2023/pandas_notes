{
 "cells": [
  {
   "cell_type": "markdown",
   "metadata": {},
   "source": [
    "# Pivoting and Melting DataFrames"
   ]
  },
  {
   "cell_type": "code",
   "execution_count": 36,
   "metadata": {},
   "outputs": [],
   "source": [
    "import pandas as pd"
   ]
  },
  {
   "cell_type": "code",
   "execution_count": 19,
   "metadata": {},
   "outputs": [
    {
     "name": "stdout",
     "output_type": "stream",
     "text": [
      "<class 'pandas.core.frame.DataFrame'>\n",
      "RangeIndex: 1732 entries, 0 to 1731\n",
      "Data columns (total 10 columns):\n",
      " #   Column        Non-Null Count  Dtype         \n",
      "---  ------        --------------  -----         \n",
      " 0   Order_Number  1732 non-null   int64         \n",
      " 1   State_Code    1732 non-null   object        \n",
      " 2   Order_Date    1732 non-null   datetime64[ns]\n",
      " 3   Month         1732 non-null   object        \n",
      " 4   Status        1732 non-null   object        \n",
      " 5   Product       1732 non-null   object        \n",
      " 6   Category      1732 non-null   object        \n",
      " 7   Brand         1732 non-null   object        \n",
      " 8   Total_Cost    1732 non-null   int64         \n",
      " 9   Total_Sales   1732 non-null   int64         \n",
      "dtypes: datetime64[ns](1), int64(3), object(6)\n",
      "memory usage: 135.4+ KB\n"
     ]
    }
   ],
   "source": [
    "data = pd.read_excel('pivot_melting.xlsx')\n",
    "data.info()"
   ]
  },
  {
   "cell_type": "markdown",
   "metadata": {},
   "source": [
    "### Pivot Data (Values, Row, Columns)"
   ]
  },
  {
   "cell_type": "code",
   "execution_count": 26,
   "metadata": {},
   "outputs": [
    {
     "data": {
      "text/html": [
       "<div>\n",
       "<style scoped>\n",
       "    .dataframe tbody tr th:only-of-type {\n",
       "        vertical-align: middle;\n",
       "    }\n",
       "\n",
       "    .dataframe tbody tr th {\n",
       "        vertical-align: top;\n",
       "    }\n",
       "\n",
       "    .dataframe thead th {\n",
       "        text-align: right;\n",
       "    }\n",
       "</style>\n",
       "<table border=\"1\" class=\"dataframe\">\n",
       "  <thead>\n",
       "    <tr style=\"text-align: right;\">\n",
       "      <th>Status</th>\n",
       "      <th>Delivered</th>\n",
       "      <th>Order</th>\n",
       "      <th>Processing</th>\n",
       "      <th>Shipped</th>\n",
       "    </tr>\n",
       "    <tr>\n",
       "      <th>Month</th>\n",
       "      <th></th>\n",
       "      <th></th>\n",
       "      <th></th>\n",
       "      <th></th>\n",
       "    </tr>\n",
       "  </thead>\n",
       "  <tbody>\n",
       "    <tr>\n",
       "      <th>Apr</th>\n",
       "      <td>22850.750000</td>\n",
       "      <td>22348.876289</td>\n",
       "      <td>15436.092784</td>\n",
       "      <td>18175.608247</td>\n",
       "    </tr>\n",
       "    <tr>\n",
       "      <th>Aug</th>\n",
       "      <td>22688.714286</td>\n",
       "      <td>19321.250000</td>\n",
       "      <td>8082.750000</td>\n",
       "      <td>16896.750000</td>\n",
       "    </tr>\n",
       "    <tr>\n",
       "      <th>Dec</th>\n",
       "      <td>20123.365854</td>\n",
       "      <td>22772.750000</td>\n",
       "      <td>15713.425000</td>\n",
       "      <td>17690.400000</td>\n",
       "    </tr>\n",
       "    <tr>\n",
       "      <th>Feb</th>\n",
       "      <td>23673.000000</td>\n",
       "      <td>18736.250000</td>\n",
       "      <td>13650.000000</td>\n",
       "      <td>20616.555556</td>\n",
       "    </tr>\n",
       "    <tr>\n",
       "      <th>Jan</th>\n",
       "      <td>22208.333333</td>\n",
       "      <td>23538.000000</td>\n",
       "      <td>18363.000000</td>\n",
       "      <td>9246.000000</td>\n",
       "    </tr>\n",
       "    <tr>\n",
       "      <th>Jul</th>\n",
       "      <td>21162.916667</td>\n",
       "      <td>23012.363636</td>\n",
       "      <td>17329.000000</td>\n",
       "      <td>13811.909091</td>\n",
       "    </tr>\n",
       "    <tr>\n",
       "      <th>Jun</th>\n",
       "      <td>19636.933333</td>\n",
       "      <td>20313.800000</td>\n",
       "      <td>22060.071429</td>\n",
       "      <td>16422.466667</td>\n",
       "    </tr>\n",
       "    <tr>\n",
       "      <th>Mar</th>\n",
       "      <td>22370.355932</td>\n",
       "      <td>22352.508475</td>\n",
       "      <td>17585.915254</td>\n",
       "      <td>16823.666667</td>\n",
       "    </tr>\n",
       "    <tr>\n",
       "      <th>May</th>\n",
       "      <td>24202.075472</td>\n",
       "      <td>18963.811321</td>\n",
       "      <td>13461.132075</td>\n",
       "      <td>14758.188679</td>\n",
       "    </tr>\n",
       "    <tr>\n",
       "      <th>Nov</th>\n",
       "      <td>20257.421053</td>\n",
       "      <td>22803.300000</td>\n",
       "      <td>17190.550000</td>\n",
       "      <td>16938.315789</td>\n",
       "    </tr>\n",
       "    <tr>\n",
       "      <th>Oct</th>\n",
       "      <td>29012.100000</td>\n",
       "      <td>21645.000000</td>\n",
       "      <td>15085.777778</td>\n",
       "      <td>12797.200000</td>\n",
       "    </tr>\n",
       "    <tr>\n",
       "      <th>Sep</th>\n",
       "      <td>22752.536585</td>\n",
       "      <td>23285.853659</td>\n",
       "      <td>16496.682927</td>\n",
       "      <td>14142.731707</td>\n",
       "    </tr>\n",
       "  </tbody>\n",
       "</table>\n",
       "</div>"
      ],
      "text/plain": [
       "Status     Delivered         Order    Processing       Shipped\n",
       "Month                                                         \n",
       "Apr     22850.750000  22348.876289  15436.092784  18175.608247\n",
       "Aug     22688.714286  19321.250000   8082.750000  16896.750000\n",
       "Dec     20123.365854  22772.750000  15713.425000  17690.400000\n",
       "Feb     23673.000000  18736.250000  13650.000000  20616.555556\n",
       "Jan     22208.333333  23538.000000  18363.000000   9246.000000\n",
       "Jul     21162.916667  23012.363636  17329.000000  13811.909091\n",
       "Jun     19636.933333  20313.800000  22060.071429  16422.466667\n",
       "Mar     22370.355932  22352.508475  17585.915254  16823.666667\n",
       "May     24202.075472  18963.811321  13461.132075  14758.188679\n",
       "Nov     20257.421053  22803.300000  17190.550000  16938.315789\n",
       "Oct     29012.100000  21645.000000  15085.777778  12797.200000\n",
       "Sep     22752.536585  23285.853659  16496.682927  14142.731707"
      ]
     },
     "execution_count": 26,
     "metadata": {},
     "output_type": "execute_result"
    }
   ],
   "source": [
    "pivot_data = data.pivot_table(\"Total_Sales\", \"Month\", \"Status\")\n",
    "pivot_data"
   ]
  },
  {
   "cell_type": "markdown",
   "metadata": {},
   "source": [
    "#### Melting Data"
   ]
  },
  {
   "cell_type": "code",
   "execution_count": 32,
   "metadata": {},
   "outputs": [
    {
     "data": {
      "text/html": [
       "<div>\n",
       "<style scoped>\n",
       "    .dataframe tbody tr th:only-of-type {\n",
       "        vertical-align: middle;\n",
       "    }\n",
       "\n",
       "    .dataframe tbody tr th {\n",
       "        vertical-align: top;\n",
       "    }\n",
       "\n",
       "    .dataframe thead th {\n",
       "        text-align: right;\n",
       "    }\n",
       "</style>\n",
       "<table border=\"1\" class=\"dataframe\">\n",
       "  <thead>\n",
       "    <tr style=\"text-align: right;\">\n",
       "      <th></th>\n",
       "      <th>Name</th>\n",
       "      <th>Houses</th>\n",
       "      <th>Grades</th>\n",
       "    </tr>\n",
       "  </thead>\n",
       "  <tbody>\n",
       "    <tr>\n",
       "      <th>0</th>\n",
       "      <td>Asif</td>\n",
       "      <td>Red</td>\n",
       "      <td>3rd</td>\n",
       "    </tr>\n",
       "    <tr>\n",
       "      <th>1</th>\n",
       "      <td>Kashif</td>\n",
       "      <td>Blue</td>\n",
       "      <td>8th</td>\n",
       "    </tr>\n",
       "    <tr>\n",
       "      <th>2</th>\n",
       "      <td>Nasir</td>\n",
       "      <td>Red</td>\n",
       "      <td>9th</td>\n",
       "    </tr>\n",
       "    <tr>\n",
       "      <th>3</th>\n",
       "      <td>Ahmed</td>\n",
       "      <td>Blue</td>\n",
       "      <td>10th</td>\n",
       "    </tr>\n",
       "  </tbody>\n",
       "</table>\n",
       "</div>"
      ],
      "text/plain": [
       "     Name Houses Grades\n",
       "0    Asif    Red    3rd\n",
       "1  Kashif   Blue    8th\n",
       "2   Nasir    Red    9th\n",
       "3   Ahmed   Blue   10th"
      ]
     },
     "execution_count": 32,
     "metadata": {},
     "output_type": "execute_result"
    }
   ],
   "source": [
    "df = {\n",
    "    'Name' : ['Asif', 'Kashif', 'Nasir', 'Ahmed'],\n",
    "    'Houses': ['Red', 'Blue', 'Red','Blue'],\n",
    "    'Grades' : ['3rd', '8th', '9th', '10th']\n",
    "}\n",
    "\n",
    "data2 = pd.DataFrame(df)\n",
    "data2\n"
   ]
  }
 ],
 "metadata": {
  "kernelspec": {
   "display_name": "Python 3",
   "language": "python",
   "name": "python3"
  },
  "language_info": {
   "codemirror_mode": {
    "name": "ipython",
    "version": 3
   },
   "file_extension": ".py",
   "mimetype": "text/x-python",
   "name": "python",
   "nbconvert_exporter": "python",
   "pygments_lexer": "ipython3",
   "version": "3.12.1"
  }
 },
 "nbformat": 4,
 "nbformat_minor": 2
}
